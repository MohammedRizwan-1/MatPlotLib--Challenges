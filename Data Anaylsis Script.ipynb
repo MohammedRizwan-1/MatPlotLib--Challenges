{
 "cells": [
  {
   "cell_type": "markdown",
   "id": "7ef10809",
   "metadata": {},
   "source": [
    "# Pymaceuticals Data/ Statistical Analysis"
   ]
  },
  {
   "cell_type": "markdown",
   "id": "ced317c0",
   "metadata": {},
   "source": [
    "### Dependancies."
   ]
  },
  {
   "cell_type": "code",
   "execution_count": 9,
   "id": "306865ee",
   "metadata": {},
   "outputs": [
    {
     "name": "stdout",
     "output_type": "stream",
     "text": [
      "Matplotlib version:  3.5.1\n"
     ]
    },
    {
     "data": {
      "text/html": [
       "<div>\n",
       "<style scoped>\n",
       "    .dataframe tbody tr th:only-of-type {\n",
       "        vertical-align: middle;\n",
       "    }\n",
       "\n",
       "    .dataframe tbody tr th {\n",
       "        vertical-align: top;\n",
       "    }\n",
       "\n",
       "    .dataframe thead th {\n",
       "        text-align: right;\n",
       "    }\n",
       "</style>\n",
       "<table border=\"1\" class=\"dataframe\">\n",
       "  <thead>\n",
       "    <tr style=\"text-align: right;\">\n",
       "      <th></th>\n",
       "      <th>Mouse ID</th>\n",
       "      <th>Drug Regimen</th>\n",
       "      <th>Sex</th>\n",
       "      <th>Age_months</th>\n",
       "      <th>Weight (g)</th>\n",
       "      <th>Timepoint</th>\n",
       "      <th>Tumor Volume (mm3)</th>\n",
       "      <th>Metastatic Sites</th>\n",
       "    </tr>\n",
       "  </thead>\n",
       "  <tbody>\n",
       "    <tr>\n",
       "      <th>0</th>\n",
       "      <td>k403</td>\n",
       "      <td>Ramicane</td>\n",
       "      <td>Male</td>\n",
       "      <td>21</td>\n",
       "      <td>16</td>\n",
       "      <td>0</td>\n",
       "      <td>45.000000</td>\n",
       "      <td>0</td>\n",
       "    </tr>\n",
       "    <tr>\n",
       "      <th>1</th>\n",
       "      <td>k403</td>\n",
       "      <td>Ramicane</td>\n",
       "      <td>Male</td>\n",
       "      <td>21</td>\n",
       "      <td>16</td>\n",
       "      <td>5</td>\n",
       "      <td>38.825898</td>\n",
       "      <td>0</td>\n",
       "    </tr>\n",
       "    <tr>\n",
       "      <th>2</th>\n",
       "      <td>k403</td>\n",
       "      <td>Ramicane</td>\n",
       "      <td>Male</td>\n",
       "      <td>21</td>\n",
       "      <td>16</td>\n",
       "      <td>10</td>\n",
       "      <td>35.014271</td>\n",
       "      <td>1</td>\n",
       "    </tr>\n",
       "    <tr>\n",
       "      <th>3</th>\n",
       "      <td>k403</td>\n",
       "      <td>Ramicane</td>\n",
       "      <td>Male</td>\n",
       "      <td>21</td>\n",
       "      <td>16</td>\n",
       "      <td>15</td>\n",
       "      <td>34.223992</td>\n",
       "      <td>1</td>\n",
       "    </tr>\n",
       "    <tr>\n",
       "      <th>4</th>\n",
       "      <td>k403</td>\n",
       "      <td>Ramicane</td>\n",
       "      <td>Male</td>\n",
       "      <td>21</td>\n",
       "      <td>16</td>\n",
       "      <td>20</td>\n",
       "      <td>32.997729</td>\n",
       "      <td>1</td>\n",
       "    </tr>\n",
       "  </tbody>\n",
       "</table>\n",
       "</div>"
      ],
      "text/plain": [
       "  Mouse ID Drug Regimen   Sex  Age_months  Weight (g)  Timepoint  \\\n",
       "0     k403     Ramicane  Male          21          16          0   \n",
       "1     k403     Ramicane  Male          21          16          5   \n",
       "2     k403     Ramicane  Male          21          16         10   \n",
       "3     k403     Ramicane  Male          21          16         15   \n",
       "4     k403     Ramicane  Male          21          16         20   \n",
       "\n",
       "   Tumor Volume (mm3)  Metastatic Sites  \n",
       "0           45.000000                 0  \n",
       "1           38.825898                 0  \n",
       "2           35.014271                 1  \n",
       "3           34.223992                 1  \n",
       "4           32.997729                 1  "
      ]
     },
     "execution_count": 9,
     "metadata": {},
     "output_type": "execute_result"
    }
   ],
   "source": [
    "# Key Dependancies \n",
    "%matplotlib inline\n",
    "import matplotlib.pyplot as plt \n",
    "import matplotlib as mpl\n",
    "import pandas as pd\n",
    "import scipy.stats as st\n",
    "import numpy as np \n",
    "import os \n",
    "import csv\n",
    "\n",
    "# Due to Darkmode of Jupyter Notebook\n",
    "plt.style.use('dark_background')\n",
    "mpl.rcParams[\"figure.facecolor\"] = '1c2021'\n",
    "mpl.rcParams[\"axes.facecolor\"] = '1c2021'\n",
    "\n",
    "# Version of MPL\n",
    "print(\"Matplotlib version: \",mpl.__version__)\n",
    "\n",
    "# Loading Data Files \n",
    "mouse_metadata_path = \"data/mouse_metadata.csv\"\n",
    "study_results_path = \"data/study_results.csv\"\n",
    "\n",
    "# Reading Files \n",
    "mouse_data = pd.read_csv(mouse_metadata_path)\n",
    "study_data = pd.read_csv(study_results_path)\n",
    "\n",
    "# Merging Data\n",
    "comb_data=pd.merge(mouse_data,study_data, how=\"outer\")\n",
    "comb_data.head()\n"
   ]
  },
  {
   "cell_type": "markdown",
   "id": "f7ae50c5",
   "metadata": {},
   "source": [
    "### Preparing Data and Cleaning."
   ]
  },
  {
   "cell_type": "code",
   "execution_count": 17,
   "id": "3f19f989",
   "metadata": {},
   "outputs": [
    {
     "name": "stdout",
     "output_type": "stream",
     "text": [
      "249 Mice were used in this study.\n"
     ]
    },
    {
     "data": {
      "text/html": [
       "<div>\n",
       "<style scoped>\n",
       "    .dataframe tbody tr th:only-of-type {\n",
       "        vertical-align: middle;\n",
       "    }\n",
       "\n",
       "    .dataframe tbody tr th {\n",
       "        vertical-align: top;\n",
       "    }\n",
       "\n",
       "    .dataframe thead th {\n",
       "        text-align: right;\n",
       "    }\n",
       "</style>\n",
       "<table border=\"1\" class=\"dataframe\">\n",
       "  <thead>\n",
       "    <tr style=\"text-align: right;\">\n",
       "      <th></th>\n",
       "      <th>Mouse ID</th>\n",
       "      <th>Drug Regimen</th>\n",
       "      <th>Sex</th>\n",
       "      <th>Age_months</th>\n",
       "      <th>Weight (g)</th>\n",
       "      <th>Timepoint</th>\n",
       "      <th>Tumor Volume (mm3)</th>\n",
       "      <th>Metastatic Sites</th>\n",
       "    </tr>\n",
       "  </thead>\n",
       "  <tbody>\n",
       "    <tr>\n",
       "      <th>0</th>\n",
       "      <td>k403</td>\n",
       "      <td>Ramicane</td>\n",
       "      <td>Male</td>\n",
       "      <td>21</td>\n",
       "      <td>16</td>\n",
       "      <td>0</td>\n",
       "      <td>45.000000</td>\n",
       "      <td>0</td>\n",
       "    </tr>\n",
       "    <tr>\n",
       "      <th>1</th>\n",
       "      <td>k403</td>\n",
       "      <td>Ramicane</td>\n",
       "      <td>Male</td>\n",
       "      <td>21</td>\n",
       "      <td>16</td>\n",
       "      <td>5</td>\n",
       "      <td>38.825898</td>\n",
       "      <td>0</td>\n",
       "    </tr>\n",
       "    <tr>\n",
       "      <th>2</th>\n",
       "      <td>k403</td>\n",
       "      <td>Ramicane</td>\n",
       "      <td>Male</td>\n",
       "      <td>21</td>\n",
       "      <td>16</td>\n",
       "      <td>10</td>\n",
       "      <td>35.014271</td>\n",
       "      <td>1</td>\n",
       "    </tr>\n",
       "    <tr>\n",
       "      <th>3</th>\n",
       "      <td>k403</td>\n",
       "      <td>Ramicane</td>\n",
       "      <td>Male</td>\n",
       "      <td>21</td>\n",
       "      <td>16</td>\n",
       "      <td>15</td>\n",
       "      <td>34.223992</td>\n",
       "      <td>1</td>\n",
       "    </tr>\n",
       "    <tr>\n",
       "      <th>4</th>\n",
       "      <td>k403</td>\n",
       "      <td>Ramicane</td>\n",
       "      <td>Male</td>\n",
       "      <td>21</td>\n",
       "      <td>16</td>\n",
       "      <td>20</td>\n",
       "      <td>32.997729</td>\n",
       "      <td>1</td>\n",
       "    </tr>\n",
       "  </tbody>\n",
       "</table>\n",
       "</div>"
      ],
      "text/plain": [
       "  Mouse ID Drug Regimen   Sex  Age_months  Weight (g)  Timepoint  \\\n",
       "0     k403     Ramicane  Male          21          16          0   \n",
       "1     k403     Ramicane  Male          21          16          5   \n",
       "2     k403     Ramicane  Male          21          16         10   \n",
       "3     k403     Ramicane  Male          21          16         15   \n",
       "4     k403     Ramicane  Male          21          16         20   \n",
       "\n",
       "   Tumor Volume (mm3)  Metastatic Sites  \n",
       "0           45.000000                 0  \n",
       "1           38.825898                 0  \n",
       "2           35.014271                 1  \n",
       "3           34.223992                 1  \n",
       "4           32.997729                 1  "
      ]
     },
     "execution_count": 17,
     "metadata": {},
     "output_type": "execute_result"
    }
   ],
   "source": [
    "# Number of Unique Mice ID's (n unique)\n",
    "total_mice=comb_data[\"Mouse ID\"].nunique()\n",
    "print(f'{total_mice} Mice were used in this study.')\n",
    "\n",
    "# Duplicate Mice ID's with duplicate timepoints \n",
    "dup_mice = comb_data.loc[comb_data.duplicated(subset =[\"Mouse ID\", \"Timepoint\"]), \"Mouse ID\"].unique()\n",
    "dup_mice\n",
    "\n",
    "# Obtaining data for duplicates\n",
    "comb_data.loc[comb_data[\"Mouse ID\"] ==\"g989\",:]\n",
    "\n",
    "# New DF removing Duplicate data\n",
    "clean_data = comb_data[comb_data[\"Mouse ID\"].isin(dup_mice)==False]\n",
    "clean_data.head()\n"
   ]
  },
  {
   "cell_type": "code",
   "execution_count": 18,
   "id": "d574fb2c",
   "metadata": {},
   "outputs": [
    {
     "name": "stdout",
     "output_type": "stream",
     "text": [
      "248 Mice were used in this study.\n"
     ]
    }
   ],
   "source": [
    "# Validating Data is Clean\n",
    "total_mice_clean=clean_data[\"Mouse ID\"].nunique()\n",
    "print(f'{total_mice_clean} Mice were used in this study.')"
   ]
  },
  {
   "cell_type": "markdown",
   "id": "7babfe93",
   "metadata": {},
   "source": [
    "### Summary Statistics."
   ]
  },
  {
   "cell_type": "code",
   "execution_count": 24,
   "id": "fa6c3ab6",
   "metadata": {},
   "outputs": [
    {
     "data": {
      "text/html": [
       "<div>\n",
       "<style scoped>\n",
       "    .dataframe tbody tr th:only-of-type {\n",
       "        vertical-align: middle;\n",
       "    }\n",
       "\n",
       "    .dataframe tbody tr th {\n",
       "        vertical-align: top;\n",
       "    }\n",
       "\n",
       "    .dataframe thead th {\n",
       "        text-align: right;\n",
       "    }\n",
       "</style>\n",
       "<table border=\"1\" class=\"dataframe\">\n",
       "  <thead>\n",
       "    <tr style=\"text-align: right;\">\n",
       "      <th></th>\n",
       "      <th>Mean</th>\n",
       "      <th>Median</th>\n",
       "      <th>Variance</th>\n",
       "      <th>Standard Deviation</th>\n",
       "      <th>Standard Error</th>\n",
       "    </tr>\n",
       "    <tr>\n",
       "      <th>Drug Regimen</th>\n",
       "      <th></th>\n",
       "      <th></th>\n",
       "      <th></th>\n",
       "      <th></th>\n",
       "      <th></th>\n",
       "    </tr>\n",
       "  </thead>\n",
       "  <tbody>\n",
       "    <tr>\n",
       "      <th>Capomulin</th>\n",
       "      <td>40.68</td>\n",
       "      <td>41.56</td>\n",
       "      <td>24.95</td>\n",
       "      <td>4.99</td>\n",
       "      <td>0.33</td>\n",
       "    </tr>\n",
       "    <tr>\n",
       "      <th>Ceftamin</th>\n",
       "      <td>52.59</td>\n",
       "      <td>51.78</td>\n",
       "      <td>39.29</td>\n",
       "      <td>6.27</td>\n",
       "      <td>0.47</td>\n",
       "    </tr>\n",
       "    <tr>\n",
       "      <th>Infubinol</th>\n",
       "      <td>52.88</td>\n",
       "      <td>51.82</td>\n",
       "      <td>43.13</td>\n",
       "      <td>6.57</td>\n",
       "      <td>0.49</td>\n",
       "    </tr>\n",
       "    <tr>\n",
       "      <th>Ketapril</th>\n",
       "      <td>55.24</td>\n",
       "      <td>53.70</td>\n",
       "      <td>68.55</td>\n",
       "      <td>8.28</td>\n",
       "      <td>0.60</td>\n",
       "    </tr>\n",
       "    <tr>\n",
       "      <th>Naftisol</th>\n",
       "      <td>54.33</td>\n",
       "      <td>52.51</td>\n",
       "      <td>66.17</td>\n",
       "      <td>8.13</td>\n",
       "      <td>0.60</td>\n",
       "    </tr>\n",
       "    <tr>\n",
       "      <th>Placebo</th>\n",
       "      <td>54.03</td>\n",
       "      <td>52.29</td>\n",
       "      <td>61.17</td>\n",
       "      <td>7.82</td>\n",
       "      <td>0.58</td>\n",
       "    </tr>\n",
       "    <tr>\n",
       "      <th>Propriva</th>\n",
       "      <td>52.32</td>\n",
       "      <td>50.45</td>\n",
       "      <td>43.85</td>\n",
       "      <td>6.62</td>\n",
       "      <td>0.54</td>\n",
       "    </tr>\n",
       "    <tr>\n",
       "      <th>Ramicane</th>\n",
       "      <td>40.22</td>\n",
       "      <td>40.67</td>\n",
       "      <td>23.49</td>\n",
       "      <td>4.85</td>\n",
       "      <td>0.32</td>\n",
       "    </tr>\n",
       "    <tr>\n",
       "      <th>Stelasyn</th>\n",
       "      <td>54.23</td>\n",
       "      <td>52.43</td>\n",
       "      <td>59.45</td>\n",
       "      <td>7.71</td>\n",
       "      <td>0.57</td>\n",
       "    </tr>\n",
       "    <tr>\n",
       "      <th>Zoniferol</th>\n",
       "      <td>53.24</td>\n",
       "      <td>51.82</td>\n",
       "      <td>48.53</td>\n",
       "      <td>6.97</td>\n",
       "      <td>0.52</td>\n",
       "    </tr>\n",
       "  </tbody>\n",
       "</table>\n",
       "</div>"
      ],
      "text/plain": [
       "               Mean  Median  Variance  Standard Deviation  Standard Error\n",
       "Drug Regimen                                                             \n",
       "Capomulin     40.68   41.56     24.95                4.99            0.33\n",
       "Ceftamin      52.59   51.78     39.29                6.27            0.47\n",
       "Infubinol     52.88   51.82     43.13                6.57            0.49\n",
       "Ketapril      55.24   53.70     68.55                8.28            0.60\n",
       "Naftisol      54.33   52.51     66.17                8.13            0.60\n",
       "Placebo       54.03   52.29     61.17                7.82            0.58\n",
       "Propriva      52.32   50.45     43.85                6.62            0.54\n",
       "Ramicane      40.22   40.67     23.49                4.85            0.32\n",
       "Stelasyn      54.23   52.43     59.45                7.71            0.57\n",
       "Zoniferol     53.24   51.82     48.53                6.97            0.52"
      ]
     },
     "execution_count": 24,
     "metadata": {},
     "output_type": "execute_result"
    }
   ],
   "source": [
    "# Objective: Creating a stat table of mean, median, variance, stand dev and \n",
    "# SEM of tumor volume for each drug \n",
    "\n",
    "# Grouping by Drug \n",
    "drug_group = clean_data.groupby(\"Drug Regimen\")\n",
    "# Mean Tumour Volume\n",
    "tumour_volume_mean = drug_group['Tumor Volume (mm3)'].mean()\n",
    "# Median Tumour Volume\n",
    "tumour_volume_median = drug_group['Tumor Volume (mm3)'].median()\n",
    "# Variance of Tumour Volume\n",
    "tumour_volume_vari = drug_group['Tumor Volume (mm3)'].var()\n",
    "# Standard Deviation of Tumour Volume\n",
    "tumour_volume_dev = drug_group['Tumor Volume (mm3)'].std()\n",
    "# Unibiased SEM\n",
    "tumour_volume_sem = drug_group['Tumor Volume (mm3)'].sem()\n",
    "\n",
    "# Summary Table Data Frame\n",
    "summary_stats=pd.DataFrame({ \n",
    "    'Mean': tumour_volume_mean,\n",
    "    'Median' : tumour_volume_median,\n",
    "    'Variance' : tumour_volume_vari,\n",
    "    'Standard Deviation' : tumour_volume_dev,\n",
    "    'Standard Error' : tumour_volume_sem})\n",
    "\n",
    "# Format to 2dp and display\n",
    "summary_stats.round(2)"
   ]
  },
  {
   "cell_type": "code",
   "execution_count": 28,
   "id": "37f26e36",
   "metadata": {},
   "outputs": [
    {
     "data": {
      "text/html": [
       "<div>\n",
       "<style scoped>\n",
       "    .dataframe tbody tr th:only-of-type {\n",
       "        vertical-align: middle;\n",
       "    }\n",
       "\n",
       "    .dataframe tbody tr th {\n",
       "        vertical-align: top;\n",
       "    }\n",
       "\n",
       "    .dataframe thead th {\n",
       "        text-align: right;\n",
       "    }\n",
       "</style>\n",
       "<table border=\"1\" class=\"dataframe\">\n",
       "  <thead>\n",
       "    <tr style=\"text-align: right;\">\n",
       "      <th></th>\n",
       "      <th>mean</th>\n",
       "      <th>median</th>\n",
       "      <th>var</th>\n",
       "      <th>std</th>\n",
       "      <th>sem</th>\n",
       "    </tr>\n",
       "    <tr>\n",
       "      <th>Drug Regimen</th>\n",
       "      <th></th>\n",
       "      <th></th>\n",
       "      <th></th>\n",
       "      <th></th>\n",
       "      <th></th>\n",
       "    </tr>\n",
       "  </thead>\n",
       "  <tbody>\n",
       "    <tr>\n",
       "      <th>Capomulin</th>\n",
       "      <td>40.675741</td>\n",
       "      <td>41.557809</td>\n",
       "      <td>24.947764</td>\n",
       "      <td>4.994774</td>\n",
       "      <td>0.329346</td>\n",
       "    </tr>\n",
       "    <tr>\n",
       "      <th>Ceftamin</th>\n",
       "      <td>52.591172</td>\n",
       "      <td>51.776157</td>\n",
       "      <td>39.290177</td>\n",
       "      <td>6.268188</td>\n",
       "      <td>0.469821</td>\n",
       "    </tr>\n",
       "    <tr>\n",
       "      <th>Infubinol</th>\n",
       "      <td>52.884795</td>\n",
       "      <td>51.820584</td>\n",
       "      <td>43.128684</td>\n",
       "      <td>6.567243</td>\n",
       "      <td>0.492236</td>\n",
       "    </tr>\n",
       "    <tr>\n",
       "      <th>Ketapril</th>\n",
       "      <td>55.235638</td>\n",
       "      <td>53.698743</td>\n",
       "      <td>68.553577</td>\n",
       "      <td>8.279709</td>\n",
       "      <td>0.603860</td>\n",
       "    </tr>\n",
       "    <tr>\n",
       "      <th>Naftisol</th>\n",
       "      <td>54.331565</td>\n",
       "      <td>52.509285</td>\n",
       "      <td>66.173479</td>\n",
       "      <td>8.134708</td>\n",
       "      <td>0.596466</td>\n",
       "    </tr>\n",
       "    <tr>\n",
       "      <th>Placebo</th>\n",
       "      <td>54.033581</td>\n",
       "      <td>52.288934</td>\n",
       "      <td>61.168083</td>\n",
       "      <td>7.821003</td>\n",
       "      <td>0.581331</td>\n",
       "    </tr>\n",
       "    <tr>\n",
       "      <th>Propriva</th>\n",
       "      <td>52.320930</td>\n",
       "      <td>50.446266</td>\n",
       "      <td>43.852013</td>\n",
       "      <td>6.622085</td>\n",
       "      <td>0.544332</td>\n",
       "    </tr>\n",
       "    <tr>\n",
       "      <th>Ramicane</th>\n",
       "      <td>40.216745</td>\n",
       "      <td>40.673236</td>\n",
       "      <td>23.486704</td>\n",
       "      <td>4.846308</td>\n",
       "      <td>0.320955</td>\n",
       "    </tr>\n",
       "    <tr>\n",
       "      <th>Stelasyn</th>\n",
       "      <td>54.233149</td>\n",
       "      <td>52.431737</td>\n",
       "      <td>59.450562</td>\n",
       "      <td>7.710419</td>\n",
       "      <td>0.573111</td>\n",
       "    </tr>\n",
       "    <tr>\n",
       "      <th>Zoniferol</th>\n",
       "      <td>53.236507</td>\n",
       "      <td>51.818479</td>\n",
       "      <td>48.533355</td>\n",
       "      <td>6.966589</td>\n",
       "      <td>0.516398</td>\n",
       "    </tr>\n",
       "  </tbody>\n",
       "</table>\n",
       "</div>"
      ],
      "text/plain": [
       "                   mean     median        var       std       sem\n",
       "Drug Regimen                                                     \n",
       "Capomulin     40.675741  41.557809  24.947764  4.994774  0.329346\n",
       "Ceftamin      52.591172  51.776157  39.290177  6.268188  0.469821\n",
       "Infubinol     52.884795  51.820584  43.128684  6.567243  0.492236\n",
       "Ketapril      55.235638  53.698743  68.553577  8.279709  0.603860\n",
       "Naftisol      54.331565  52.509285  66.173479  8.134708  0.596466\n",
       "Placebo       54.033581  52.288934  61.168083  7.821003  0.581331\n",
       "Propriva      52.320930  50.446266  43.852013  6.622085  0.544332\n",
       "Ramicane      40.216745  40.673236  23.486704  4.846308  0.320955\n",
       "Stelasyn      54.233149  52.431737  59.450562  7.710419  0.573111\n",
       "Zoniferol     53.236507  51.818479  48.533355  6.966589  0.516398"
      ]
     },
     "execution_count": 28,
     "metadata": {},
     "output_type": "execute_result"
    }
   ],
   "source": [
    "drug_group['Tumor Volume (mm3)'].agg(['mean','median','var','std','sem'])"
   ]
  },
  {
   "cell_type": "markdown",
   "id": "9a5e8f9c",
   "metadata": {},
   "source": [
    "### Bar and Pie Charts."
   ]
  },
  {
   "cell_type": "code",
   "execution_count": 33,
   "id": "149090ab",
   "metadata": {},
   "outputs": [
    {
     "data": {
      "text/plain": [
       "<AxesSubplot:title={'center':'Total Num Timepoints for All Mice for each Drug'}, xlabel='Drug Regimen', ylabel='Total Number of Timepoints'>"
      ]
     },
     "execution_count": 33,
     "metadata": {},
     "output_type": "execute_result"
    },
    {
     "data": {
      "image/png": "[encoded data removed]",
      "text/plain": [
       "<Figure size 432x288 with 1 Axes>"
      ]
     },
     "metadata": {},
     "output_type": "display_data"
    }
   ],
   "source": [
    "# Bar Plot using Dataframe method showing total timepoints for all mice\n",
    "# Tested for each drug throughout the study \n",
    "\n",
    "drug_group.count()['Timepoint'].plot(kind = 'bar', ylabel = 'Total Number of Timepoints', title = 'Total Num Timepoints for All Mice for each Drug', color = 'green')\n"
   ]
  },
  {
   "cell_type": "code",
   "execution_count": 42,
   "id": "7d0428d9",
   "metadata": {},
   "outputs": [
    {
     "data": {
      "image/png": "[encoded data removed]",
      "text/plain": [
       "<Figure size 432x288 with 1 Axes>"
      ]
     },
     "metadata": {},
     "output_type": "display_data"
    }
   ],
   "source": [
    "# Bar Plot using Pyplot method showing total timepoints for all mice\n",
    "# Tested for each drug throughout the study \n",
    "\n",
    "# Creating bar chart and stating colour\n",
    "plt.bar(drug_group.count()['Timepoint'].index, drug_group.count()['Timepoint'], color = 'b')\n",
    "\n",
    "# Add title and labels for the chart\n",
    "plt.title(\"Total Num Timepoints for All Mice for each Drug\")\n",
    "plt.xlabel(\"Drug Regimen\")\n",
    "plt.ylabel(\"Total Number of Timepoints\")\n",
    "\n",
    "# Changing angle of index values in x-axis to better represent data\n",
    "plt.xticks([x for x in range(length)],drug_group.count()['Timepoint'].index,rotation = 45)\n",
    "\n",
    "# Set the y limits of the current chart\n",
    "plt.ylim(0, 251)\n",
    "plt.yticks(np.arange(0,251, 50.0))\n",
    "plt.tight_layout()\n",
    "plt.show()"
   ]
  },
  {
   "cell_type": "code",
   "execution_count": 54,
   "id": "d569f7a7",
   "metadata": {},
   "outputs": [
    {
     "data": {
      "text/plain": [
       "<AxesSubplot:title={'center':'Distribution of Female vs. Male'}, ylabel='Sex'>"
      ]
     },
     "execution_count": 54,
     "metadata": {},
     "output_type": "execute_result"
    },
    {
     "data": {
      "image/png": "[encoded data removed]",
      "text/plain": [
       "<Figure size 432x288 with 1 Axes>"
      ]
     },
     "metadata": {},
     "output_type": "display_data"
    }
   ],
   "source": [
    "# Pie Plot using Pandas representing gender of mice\n",
    "\n",
    "count_gender = clean_data['Sex'].value_counts()\n",
    "count_gender.plot(kind = 'pie', title = 'Distribution of Female vs. Male', colors = [\"red\", \"blue\"], autopct='%1.1f%%', startangle = 150, shadow = True)\n"
   ]
  },
  {
   "cell_type": "code",
   "execution_count": 57,
   "id": "4faf2d98",
   "metadata": {},
   "outputs": [
    {
     "data": {
      "image/png": "[encoded data removed]",
      "text/plain": [
       "<Figure size 432x288 with 1 Axes>"
      ]
     },
     "metadata": {},
     "output_type": "display_data"
    }
   ],
   "source": [
    "# Pie plot showing the distribution of female versus male mice using pyplot\n",
    "\n",
    "# Generating Pie Chart\n",
    "plt.pie(clean_data['Sex'].value_counts(), labels = clean_data['Sex'].unique(),  colors = [\"green\", \"blue\"],autopct='%1.1f%%', shadow = True, startangle = 150)\n",
    "\n",
    "\n",
    "\n",
    "# Labelling Pie Chart\n",
    "plt.title('Distribution of Female vs. Male')\n",
    "plt.ylabel('Sex')\n",
    "plt.show()"
   ]
  }
 ],
 "metadata": {
  "kernelspec": {
   "display_name": "Python 3.9.12 ('base')",
   "language": "python",
   "name": "python3"
  },
  "language_info": {
   "codemirror_mode": {
    "name": "ipython",
    "version": 3
   },
   "file_extension": ".py",
   "mimetype": "text/x-python",
   "name": "python",
   "nbconvert_exporter": "python",
   "pygments_lexer": "ipython3",
   "version": "3.9.12"
  },
  "vscode": {
   "interpreter": {
    "hash": "2c1b7d2a254a833f77e60ac78da1ed54ff65cb1701c74f3555560f6bc7e55a47"
   }
  }
 },
 "nbformat": 4,
 "nbformat_minor": 5
}
