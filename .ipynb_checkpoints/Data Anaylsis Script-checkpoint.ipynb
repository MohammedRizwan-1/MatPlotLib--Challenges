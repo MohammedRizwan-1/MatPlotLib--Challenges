{
 "cells": [
  {
   "cell_type": "markdown",
   "id": "7ef10809",
   "metadata": {},
   "source": [
    "# Pymaceuticals Data/ Statistical Analysis"
   ]
  },
  {
   "cell_type": "markdown",
   "id": "ced317c0",
   "metadata": {},
   "source": [
    "### Dependancies"
   ]
  },
  {
   "cell_type": "code",
   "execution_count": 18,
   "id": "306865ee",
   "metadata": {},
   "outputs": [
    {
     "name": "stdout",
     "output_type": "stream",
     "text": [
      "Matplotlib version:  3.2.2\n"
     ]
    },
    {
     "data": {
      "text/html": [
       "<div>\n",
       "<style scoped>\n",
       "    .dataframe tbody tr th:only-of-type {\n",
       "        vertical-align: middle;\n",
       "    }\n",
       "\n",
       "    .dataframe tbody tr th {\n",
       "        vertical-align: top;\n",
       "    }\n",
       "\n",
       "    .dataframe thead th {\n",
       "        text-align: right;\n",
       "    }\n",
       "</style>\n",
       "<table border=\"1\" class=\"dataframe\">\n",
       "  <thead>\n",
       "    <tr style=\"text-align: right;\">\n",
       "      <th></th>\n",
       "      <th>Mouse ID</th>\n",
       "      <th>Drug Regimen</th>\n",
       "      <th>Sex</th>\n",
       "      <th>Age_months</th>\n",
       "      <th>Weight (g)</th>\n",
       "      <th>Timepoint</th>\n",
       "      <th>Tumor Volume (mm3)</th>\n",
       "      <th>Metastatic Sites</th>\n",
       "    </tr>\n",
       "  </thead>\n",
       "  <tbody>\n",
       "    <tr>\n",
       "      <th>0</th>\n",
       "      <td>k403</td>\n",
       "      <td>Ramicane</td>\n",
       "      <td>Male</td>\n",
       "      <td>21</td>\n",
       "      <td>16</td>\n",
       "      <td>0</td>\n",
       "      <td>45.000000</td>\n",
       "      <td>0</td>\n",
       "    </tr>\n",
       "    <tr>\n",
       "      <th>1</th>\n",
       "      <td>k403</td>\n",
       "      <td>Ramicane</td>\n",
       "      <td>Male</td>\n",
       "      <td>21</td>\n",
       "      <td>16</td>\n",
       "      <td>5</td>\n",
       "      <td>38.825898</td>\n",
       "      <td>0</td>\n",
       "    </tr>\n",
       "    <tr>\n",
       "      <th>2</th>\n",
       "      <td>k403</td>\n",
       "      <td>Ramicane</td>\n",
       "      <td>Male</td>\n",
       "      <td>21</td>\n",
       "      <td>16</td>\n",
       "      <td>10</td>\n",
       "      <td>35.014271</td>\n",
       "      <td>1</td>\n",
       "    </tr>\n",
       "    <tr>\n",
       "      <th>3</th>\n",
       "      <td>k403</td>\n",
       "      <td>Ramicane</td>\n",
       "      <td>Male</td>\n",
       "      <td>21</td>\n",
       "      <td>16</td>\n",
       "      <td>15</td>\n",
       "      <td>34.223992</td>\n",
       "      <td>1</td>\n",
       "    </tr>\n",
       "    <tr>\n",
       "      <th>4</th>\n",
       "      <td>k403</td>\n",
       "      <td>Ramicane</td>\n",
       "      <td>Male</td>\n",
       "      <td>21</td>\n",
       "      <td>16</td>\n",
       "      <td>20</td>\n",
       "      <td>32.997729</td>\n",
       "      <td>1</td>\n",
       "    </tr>\n",
       "  </tbody>\n",
       "</table>\n",
       "</div>"
      ],
      "text/plain": [
       "  Mouse ID Drug Regimen   Sex  Age_months  Weight (g)  Timepoint  \\\n",
       "0     k403     Ramicane  Male          21          16          0   \n",
       "1     k403     Ramicane  Male          21          16          5   \n",
       "2     k403     Ramicane  Male          21          16         10   \n",
       "3     k403     Ramicane  Male          21          16         15   \n",
       "4     k403     Ramicane  Male          21          16         20   \n",
       "\n",
       "   Tumor Volume (mm3)  Metastatic Sites  \n",
       "0           45.000000                 0  \n",
       "1           38.825898                 0  \n",
       "2           35.014271                 1  \n",
       "3           34.223992                 1  \n",
       "4           32.997729                 1  "
      ]
     },
     "execution_count": 18,
     "metadata": {},
     "output_type": "execute_result"
    }
   ],
   "source": [
    "# Key Dependancies \n",
    "%matplotlib inline\n",
    "import matplotlib.pyplot as plt \n",
    "import matplotlib as mpl\n",
    "import pandas as pd\n",
    "import scipy.stats as st\n",
    "import numpy as np \n",
    "import os \n",
    "import csv\n",
    "\n",
    "# Due to Darkmode of Jupyter Notebook\n",
    "plt.style.use('dark_background')\n",
    "mpl.rcParams[\"figure.facecolor\"] = '1c2021'\n",
    "mpl.rcParams[\"axes.facecolor\"] = '1c2021'\n",
    "\n",
    "# Version of MPL\n",
    "print(\"Matplotlib version: \",mpl.__version__)\n",
    "\n",
    "# Loading Data Files \n",
    "mouse_metadata_path = \"data/mouse_metadata.csv\"\n",
    "study_results_path = \"data/study_results.csv\"\n",
    "\n",
    "# Reading Files \n",
    "mouse_data = pd.read_csv(mouse_metadata_path)\n",
    "study_data = pd.read_csv(study_results_path)\n",
    "\n",
    "# Merging Data\n",
    "comb_data=pd.merge(mouse_data,study_data, how=\"outer\")\n",
    "comb_data.head()\n"
   ]
  },
  {
   "cell_type": "code",
   "execution_count": 36,
   "id": "3f19f989",
   "metadata": {},
   "outputs": [
    {
     "name": "stdout",
     "output_type": "stream",
     "text": [
      "249 Mice were used in this study.\n",
      "248 Mice were used in this study.\n"
     ]
    }
   ],
   "source": [
    "# Number of Unique Mice ID's (n unique)\n",
    "total_mice=comb_data[\"Mouse ID\"].nunique()\n",
    "print(f'{total_mice} Mice were used in this study.')\n",
    "\n",
    "# Duplicate Mice ID's with duplicate timepoints \n",
    "dup_mice = comb_data.loc[comb_data.duplicated(subset =[\"Mouse ID\", \"Timepoint\"]), \"Mouse ID\"].unique()\n",
    "dup_mice\n",
    "\n",
    "# Obtaining data for duplicates\n",
    "comb_data.loc[comb_data[\"Mouse ID\"] ==\"g989\",:]\n",
    "\n",
    "# New DF removing Duplicate data\n",
    "clean_data = comb_data[comb_data[\"Mouse ID\"].isin(dup_mice)==False]\n",
    "clean_data.head()\n",
    "# Validating Data is Clean\n",
    "total_mice_clean=clean_data[\"Mouse ID\"].nunique()\n",
    "print(f'{total_mice_clean} Mice were used in this study.')"
   ]
  },
  {
   "cell_type": "code",
   "execution_count": null,
   "id": "fa6c3ab6",
   "metadata": {},
   "outputs": [],
   "source": []
  }
 ],
 "metadata": {
  "kernelspec": {
   "display_name": "Python 3 (ipykernel)",
   "language": "python",
   "name": "python3"
  },
  "language_info": {
   "codemirror_mode": {
    "name": "ipython",
    "version": 3
   },
   "file_extension": ".py",
   "mimetype": "text/x-python",
   "name": "python",
   "nbconvert_exporter": "python",
   "pygments_lexer": "ipython3",
   "version": "3.7.7"
  }
 },
 "nbformat": 4,
 "nbformat_minor": 5
}
